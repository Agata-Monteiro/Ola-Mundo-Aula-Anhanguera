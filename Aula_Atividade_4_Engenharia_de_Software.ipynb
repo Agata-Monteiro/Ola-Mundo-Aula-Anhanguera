{
  "nbformat": 4,
  "nbformat_minor": 0,
  "metadata": {
    "colab": {
      "provenance": [],
      "authorship_tag": "ABX9TyOT/dROPggfJ/two3ZFCDzq",
      "include_colab_link": true
    },
    "kernelspec": {
      "name": "python3",
      "display_name": "Python 3"
    },
    "language_info": {
      "name": "python"
    }
  },
  "cells": [
    {
      "cell_type": "markdown",
      "metadata": {
        "id": "view-in-github",
        "colab_type": "text"
      },
      "source": [
        "<a href=\"https://colab.research.google.com/github/Agata-Monteiro/Ola-Mundo-Aula-Anhanguera/blob/main/Aula_Atividade_4_Engenharia_de_Software.ipynb\" target=\"_parent\"><img src=\"https://colab.research.google.com/assets/colab-badge.svg\" alt=\"Open In Colab\"/></a>"
      ]
    },
    {
      "cell_type": "markdown",
      "source": [
        "**Aluna:** Ágata Monteiro da Silva Alves.\n",
        "\n",
        "**Curso:** Superior em Análise e Desenvolvimento de Sistemas.\n",
        "\n",
        "**Matrícula:** 3505046102.\n",
        "\n",
        "**Periodo de ingresso:** 2023.2"
      ],
      "metadata": {
        "id": "V7AwVGv3CoJ2"
      }
    },
    {
      "cell_type": "code",
      "source": [
        "print(\"Olá,Mundo!\")"
      ],
      "metadata": {
        "id": "awb5GeQ5Cwjm",
        "outputId": "88844810-b72c-4ce1-9530-36dbc1b681db",
        "colab": {
          "base_uri": "https://localhost:8080/"
        }
      },
      "execution_count": 2,
      "outputs": [
        {
          "output_type": "stream",
          "name": "stdout",
          "text": [
            "Olá,Mundo!\n"
          ]
        }
      ]
    }
  ]
}